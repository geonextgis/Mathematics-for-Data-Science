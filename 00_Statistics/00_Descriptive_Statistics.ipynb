{
  "cells": [
    {
      "cell_type": "markdown",
      "metadata": {
        "id": "kQmcn5ZcC7-w"
      },
      "source": [
        "# **Descriptive Statistics**"
      ]
    },
    {
      "cell_type": "markdown",
      "metadata": {
        "id": "ZWN0Tg3iDm22"
      },
      "source": [
        "## **What is Statistics?**\n",
        "Statistics is a branch of mathematics that involves collecting,\n",
        "analysing, interpreting, and presenting data. It provides tools and\n",
        "methods to understand and make sense of large amounts of data\n",
        "and to draw conclusions and make decisions based on the data.\n",
        "\n",
        "In practice, statistics is used in a wide range of fields, such as\n",
        "business, economics, social sciences, medicine, and engineering. It is\n",
        "used to conduct research studies, analyse market trends, evaluate\n",
        "the effectiveness of treatments and interventions, and make\n",
        "forecasts and predictions.\n",
        "\n",
        "**Examples:**\n",
        "1. Business - Data Analysis(Identifying customer behavior) and\n",
        "Demand Forecasting\n",
        "2. Medical - Identify efficacy of new medicines(Clinical trials),\n",
        "Identifying risk factor for diseases(Epidemiology)\n",
        "3. Government & Politics - Conducting surveys, Polling\n",
        "4. Environmental Science - Climate research"
      ]
    },
    {
      "cell_type": "markdown",
      "metadata": {
        "id": "491sYjW2Dsv2"
      },
      "source": [
        "## **Types of Statistics**\n",
        "There are two main types of statistics:\n",
        "\n",
        "1. **Descriptive Statistics:** <br>\n",
        " These methods involve summarizing and presenting data in a meaningful way. Measures such as mean (average), median (middle value), mode (most frequent value), and various measures of variability (range, standard deviation) fall under descriptive statistics.\n",
        "\n",
        "2. **Inferential Statistics:** <br>\n",
        "These methods involve making predictions or inferences about a population based on a sample of data. Inferential statistics include hypothesis testing, confidence intervals, and regression analysis."
      ]
    },
    {
      "cell_type": "markdown",
      "metadata": {
        "id": "b0Q8OeXgEkra"
      },
      "source": [
        "## **Population vs Sample**\n",
        "1. **Population:** <br>\n",
        "Population refers to the entire group of individuals or objects that we are\n",
        "interested in studying. It is the complete set of observations that we want to make\n",
        "inferences about. For example, the population might be all the students in a\n",
        "particular school or all the cars in a particular city.\n",
        "\n",
        "2. **Sample:** <br>\n",
        "A sample, on the other hand, is a subset of the population. It is a smaller group of individuals or objects that we select from the population to study. Samples are used to estimate characteristics of the population, such as the mean or the proportion with a certain attribute. For example, we might randomly select 100 students.\n",
        "\n",
        "<br>\n",
        "<img src=\"https://cdn.analyticsvidhya.com/wp-content/uploads/2023/05/Group-13.jpg\" width=50%>\n",
        "<br>\n",
        "\n",
        "**Examples:** <br>\n",
        "1. All cricket fans vs fans who were present in the stadium.\n",
        "2. All students vs who visit college for lectures.\n",
        "\n",
        "**Things to be careful about while creating samples:**\n",
        "1. Sample Size\n",
        "2. Random\n",
        "3. Representative"
      ]
    },
    {
      "cell_type": "markdown",
      "metadata": {
        "id": "E0jJB6DfK7uf"
      },
      "source": [
        "## **Parameter vs Statistics**\n",
        "A parameter is a characteristic of a population, while a statistic is a characteristic\n",
        "of a sample. Parameters are generally unknown and are estimated using statistics.\n",
        "The goal of statistical inference is to use the information obtained from the sample\n",
        "to make inferences about the population parameters."
      ]
    },
    {
      "cell_type": "markdown",
      "metadata": {
        "id": "N4ycmpPRL0et"
      },
      "source": [
        "## **Inferential Statistics**\n",
        "Inferential statistics is a branch of statistics that involves drawing conclusions and making inferences about a population based on a sample of data taken from that population. The goal is to extend the findings from the sample to the larger population, using statistical methods to estimate parameters and test hypotheses.\n",
        "\n",
        "Key concepts in inferential statistics include:\n",
        "\n",
        "1. **Hypothesis Testing:** This involves making a statistical inference about a population parameter based on sample data. Researchers formulate a null hypothesis and an alternative hypothesis, collect data, and use statistical tests to determine whether there is enough evidence to reject the null hypothesis in favor of the alternative.\n",
        "\n",
        "2. **Confidence Intervals:** Confidence intervals provide a range of values within which the true population parameter is likely to lie with a certain level of confidence. For example, a 95% confidence interval indicates that we are 95% confident that the true parameter falls within the specified range.\n",
        "\n",
        "3. **Regression Analysis:** This statistical method is used to study the relationship between one or more independent variables and a dependent variable. It helps in predicting or estimating the value of the dependent variable based on the values of the independent variables.\n",
        "\n",
        "4. **ANOVA (Analysis of Variance):** ANOVA is a statistical technique used to compare means among different groups. It assesses whether there are any statistically significant differences between the means of three or more independent groups.\n",
        "\n",
        "5. **Sampling Techniques:** Since inferential statistics involve making inferences about a population based on a sample, it's crucial to use appropriate sampling techniques to ensure the sample is representative of the population.\n",
        "\n",
        "6. **Chi-square tests:** This involves testing the independence or association between two\n",
        "categorical variables. For example, testing whether gender and occupation are\n",
        "independent variables.\n",
        "\n",
        "7. **Bayesian statistics:** This is an alternative approach to statistical inference that involves\n",
        "updating beliefs about the probability of an event based on new evidence. For example,\n",
        "updating the probability of a disease given a positive test result."
      ]
    },
    {
      "cell_type": "markdown",
      "metadata": {
        "id": "H_i0IcZ_L3km"
      },
      "source": [
        "## **Types of Data**\n",
        "Data can be classified into different types based on its nature, characteristics, and the way it is collected. The two main types of data are:\n",
        "\n",
        "1. **Categorical Data (Qualitative Data):**\n",
        "   - **Nominal Data:** This type of data consists of categories or labels without any inherent order or ranking. Examples include colors, gender, or types of fruit. Nominal data can be represented by words or numbers, but the numerical values do not imply any inherent order.\n",
        "\n",
        "   - **Ordinal Data:** Ordinal data has categories with a meaningful order or ranking, but the intervals between the categories are not uniform or meaningful. Examples include education levels, socio-economic status, or customer satisfaction ratings on a scale from \"low\" to \"high.\"\n",
        "\n",
        "2. **Numerical Data (Quantitative Data):**\n",
        "   - **Discrete Data:** Discrete data consists of separate, distinct values that are often counted in whole numbers. Examples include the number of students in a class, the count of cars in a parking lot, or the number of books on a shelf.\n",
        "\n",
        "   - **Continuous Data:** Continuous data can take any value within a given range and can be measured with great precision. Examples include height, weight, temperature, or time. Continuous data is often represented using real numbers and can be measured with decimal values.\n",
        "\n",
        "   <img src=\"https://cdn1.byjus.com/wp-content/uploads/2021/12/Types-of-Data-in-Statistics.png\" width=60%>"
      ]
    },
    {
      "cell_type": "markdown",
      "metadata": {
        "id": "5V2caUcNNvHZ"
      },
      "source": [
        "## **Measures of Central Tendency**\n",
        "Measures of central tendency are statistical measures that describe the center or average of a set of data. They provide a single representative value around which the data tends to cluster. The three main measures of central tendency are:\n",
        "\n",
        "<img src=\"https://einstein.com.sg/wp-content/uploads/2020/08/Mean-Median-Mode-Diagrams-1024x329.jpg\" width=70%>"
      ]
    },
    {
      "cell_type": "markdown",
      "metadata": {
        "id": "v_tSESviPUp9"
      },
      "source": [
        "### **1. Mean**\n",
        "The mean, also known as the average, is calculated by adding up all the values in a data set and dividing the sum by the number of values. It is sensitive to extreme values, making it susceptible to outliers. The population mean and sample mean are two related but distinct concepts in statistics, and they are used to describe the central tendency of a dataset.\n",
        "\n",
        "1. **Population Mean:**\n",
        "   - **Symbol:** $( \\mu ) (mu)$\n",
        "   - The population mean represents the average of all the individual values in an entire population. It is calculated by summing up all the values in the population and dividing by the total number of population members.\n",
        "   - Formula: $\\mu = \\frac{\\Sigma X}{N}$\n",
        "     - $\\mu$: Population mean\n",
        "     - $\\Sigma X$: Sum of all individual values in the population\n",
        "     - $ N $: Total number of individuals in the population\n",
        "\n",
        "2. **Sample Mean:**\n",
        "   - **Symbol:** $( \\bar{X} ) (X-bar)$\n",
        "   - The sample mean is an estimate of the population mean and is calculated based on a subset of the population, known as a sample. It provides a measure of central tendency for the sample.\n",
        "   - Formula: $\\bar{X} = \\frac{\\Sigma x}{n}$\n",
        "     - $\\bar{X}$: Sample mean\n",
        "     - $\\Sigma x$: Sum of all individual values in the sample\n",
        "     - $ n $: Number of individuals in the sample\n",
        "<br>\n",
        "<img src=\"https://www.onlinemathlearning.com/image-files/population-mean.png\">\n",
        "<br>\n",
        "\n",
        "**Disadvantages:** <br>\n",
        "Mean has some disadvantages and may not always be the most appropriate measure, especially in certain situations. Here are some disadvantages of using the mean:\n",
        "\n",
        "1. **Sensitive to Outliers:**\n",
        "   - The mean is highly influenced by extreme values or outliers in the dataset. A single unusually high or low value can significantly skew the mean, making it less representative of the central tendency, especially in skewed distributions.\n",
        "\n",
        "2. **Not Robust for Skewed Distributions:**\n",
        "   - In distributions that are not symmetric, the mean may not accurately reflect the typical or central value. Skewed distributions, where the data is concentrated on one side, can distort the mean.\n",
        "\n",
        "3. **Not Always a Representative Value:**\n",
        "   - In some cases, the mean may not be a representative value, especially when the distribution is multimodal (having multiple peaks) or when there is no clear central tendency."
      ]
    },
    {
      "cell_type": "markdown",
      "metadata": {
        "id": "-4Ffp6YYRcg6"
      },
      "source": [
        "### **2. Median**\n",
        "The median is the middle value in a sorted list of data. If there is an even number of observations, the median is the average of the two middle values.\n",
        "\n",
        "**Advantage over Mean:** <br>\n",
        "The median is less sensitive to extreme values compared to the mean, making it a more robust measure of central tendency.\n",
        "\n",
        "<img src=\"https://upload.wikimedia.org/wikipedia/commons/thumb/c/cf/Finding_the_median.png/1200px-Finding_the_median.png\" width=30%>\n"
      ]
    },
    {
      "cell_type": "markdown",
      "metadata": {
        "id": "FiNiyN3eSIhf"
      },
      "source": [
        "### **3. Mode**\n",
        "The mode is the value that occurs most frequently in a data set. A data set may have one mode (unimodal), more than one mode (multimodal), or no mode if all values are distinct.\n",
        "\n",
        "**Advantage:**<br>\n",
        "The mode is particularly useful for categorical or nominal data, but it can also be applied to numerical data.\n",
        "\n",
        "<img src=\"https://qph.cf2.quoracdn.net/main-qimg-f562b746fc670ac47ec0ee037632bb61.webp\" width=30%>"
      ]
    },
    {
      "cell_type": "markdown",
      "metadata": {
        "id": "xRnJd4R7S1ff"
      },
      "source": [
        "### **4. Weighted Mean**\n",
        "The weighted mean, also known as the weighted average, is a measure of central tendency that takes into account the importance or weight of each value in a dataset. Unlike the regular (unweighted) mean, where each value contributes equally to the average, the weighted mean assigns different weights to different values.\n",
        "\n",
        "The formula for calculating the weighted mean is:\n",
        "\n",
        "$\\text{Weighted Mean} = \\frac{\\sum_{i=1}^{n} (w_i \\cdot x_i)}{\\sum_{i=1}^{n} w_i}$\n",
        "\n",
        "Where:\n",
        "- $ n $ is the total number of values.\n",
        "- $ x_i $ is the i-th value in the dataset.\n",
        "- $ w_i $ is the weight assigned to the i-th value.\n",
        "\n",
        "\n",
        "**Examples:**<br>\n",
        "Suppose you have exam scores for a course, and each exam contributes a different percentage to the final grade. The weighted mean would be used to calculate the overall average, giving more weight to exams with higher percentages.\n"
      ]
    },
    {
      "cell_type": "markdown",
      "metadata": {
        "id": "KZHjBLfmTqgy"
      },
      "source": [
        "### **5. Trimmed Mean**\n",
        "A trimmed mean is a measure of central tendency that is calculated by removing a specified percentage of the smallest and largest values from a dataset before calculating the mean. The purpose of trimming is to reduce the impact of outliers or extreme values on the calculated mean, providing a more robust estimate of central tendency.\n",
        "\n",
        "The formula for calculating a trimmed mean involves the following steps:\n",
        "\n",
        "1. Sort the dataset in ascending order.\n",
        "2. Remove a specified percentage of values from both ends of the sorted dataset.\n",
        "3. Calculate the mean of the remaining values.\n",
        "\n",
        "The trimmed mean is denoted as $\\bar{X}_t $, where the subscript \"t\" indicates the percentage of data trimmed. For example, a 5% trimmed mean removes 5% of the smallest and 5% of the largest values.\n",
        "\n",
        "The formula for calculating a trimmed mean is:\n",
        "\n",
        "$\\bar{X}_t = \\frac{\\sum_{i=p+1}^{n-p} x_i}{n-2p}$\n",
        "\n",
        "Where:\n",
        "- $ n $ is the total number of values in the dataset.\n",
        "- $ x_i $ represents the i-th value after sorting.\n",
        "- $ p $ is the percentage of data trimmed from each end.\n",
        "\n",
        "**Advantages:** <br>\n",
        "Trimmed means are more robust than the standard mean in the presence of outliers or skewed distributions. By removing extreme values, the trimmed mean focuses on the central portion of the dataset."
      ]
    }
  ],
  "metadata": {
    "colab": {
      "provenance": [],
      "toc_visible": true
    },
    "kernelspec": {
      "display_name": "Python 3",
      "name": "python3"
    },
    "language_info": {
      "name": "python"
    }
  },
  "nbformat": 4,
  "nbformat_minor": 0
}
